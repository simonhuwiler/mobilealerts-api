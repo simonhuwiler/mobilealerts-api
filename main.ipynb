{
 "cells": [
  {
   "cell_type": "markdown",
   "metadata": {},
   "source": [
    "# Tests"
   ]
  },
  {
   "cell_type": "code",
   "execution_count": null,
   "metadata": {},
   "outputs": [],
   "source": [
    "import requests\n",
    "import hashlib\n",
    "import datetime"
   ]
  },
  {
   "cell_type": "code",
   "execution_count": null,
   "metadata": {},
   "outputs": [],
   "source": [
    "headers = {\n",
    "    'Content-Type': 'application/x-www-form-urlencoded; charset=utf-8',\n",
    "    'User-Agent': 'Dalvik/2.1.0 (Linux; U; Android 6.0; Android SDK built for x86 Build/MASTER)',\n",
    "    'Host': 'www.data199.com',\n",
    "    'Connection': 'Keep-Alive',\n",
    "    'Accept-Encoding': 'gzip',\n",
    "    'Content-Length': '555'\n",
    "}\n",
    "\n",
    "payload_token = {\n",
    "    #'devicetoken':      'deC5p9A1SQiYd9zjhZqjmn:APA91bEKGhiFo7O3oq_MNFpnaClpXY7WhcO-QYT6Q37FyngS3lm5Wj_w_nN_gs-XZ8JG1h2l48op4HNAqnKlm3dnHVcDRa-R560iuueBVjxL5xGniN-uWljXjyaUAE5ifCKK3bOzDgQB',\n",
    "    'devicetoken':      'empty',\n",
    "    #'vendorid':         '6c3cdebd-bc1e-4e7a-90ea-4b50ac19a980',\n",
    "     'vendorid':         'BE60BB85-EAC9-4C5B-8885-1A54A9D51E2',\n",
    "    #'phoneid':          '478171053054',\n",
    "     'phoneid':          'unknown',\n",
    "    'version':          '1.54',\n",
    "    'build':            '201',\n",
    "    'executable':       'eu.mobile_alerts.weatherhub',\n",
    "    'bundle':           'eu.mobile_alerts.weatherhub',\n",
    "    'lang':             'en',\n",
    "    'timezoneoffset':   '0',\n",
    "    'timeampm':         'true',\n",
    "    'usecelsius':       'true',\n",
    "    'usemm':            'true',\n",
    "    'speedunit':        '0',\n",
    "    'ccon':             'false',\n",
    "    'timestamp':        '1672256420',\n",
    "}\n",
    "\n",
    "token = \"&\".join(list(map(lambda x: '%s=%s' % (x, payload_token[x]), payload_token)))\n",
    "token = token.replace('-','').replace(',','').replace('.','')#.replace('_','')\n",
    "token = token + 'uvh2r1qmbqk8dcgv0hc31a6l8s5cnb0ii7oglpfj'\n",
    "token = token.lower()\n",
    "\n",
    "m = hashlib.md5()\n",
    "m.update(token.encode(\"utf-8\"))\n",
    "hexdig = m.hexdigest()\n",
    "\n",
    "payload_untoken = {\n",
    "    #'requesttoken':     '851dc0a7b997cd292b83beba00418d9c',\n",
    "    'requesttoken': hexdig,\n",
    "    'deviceids':         'XXX,YYY,',\n",
    "    'measurementfrom':  '0',\n",
    "    'measurementcount': '50'\n",
    "}\n",
    "\n",
    "payload = dict(payload_token, **payload_untoken)\n",
    "\n",
    "#url = 'https://www.data199.com/api/v1/device'\n",
    "url = 'https://www.data199.com/api/v1/dashboard'\n",
    "\n",
    "r = requests.post(url, headers=headers, data=payload)\n",
    "r.json()\n",
    "#hexdig"
   ]
  },
  {
   "cell_type": "code",
   "execution_count": null,
   "metadata": {},
   "outputs": [],
   "source": [
    "hexdig"
   ]
  },
  {
   "cell_type": "code",
   "execution_count": null,
   "metadata": {},
   "outputs": [],
   "source": [
    "import json\n",
    "json.dump(r.json(), open('test.json', 'w', encoding='UTF-8'), ensure_ascii=False)"
   ]
  },
  {
   "cell_type": "code",
   "execution_count": null,
   "metadata": {},
   "outputs": [],
   "source": []
  }
 ],
 "metadata": {
  "kernelspec": {
   "display_name": "env",
   "language": "python",
   "name": "python3"
  },
  "language_info": {
   "codemirror_mode": {
    "name": "ipython",
    "version": 3
   },
   "file_extension": ".py",
   "mimetype": "text/x-python",
   "name": "python",
   "nbconvert_exporter": "python",
   "pygments_lexer": "ipython3",
   "version": "3.10.8"
  },
  "orig_nbformat": 4,
  "vscode": {
   "interpreter": {
    "hash": "0756da43b3a927f27f70f143e99bdfea2be0aaa0b1c1af1fa2a9f5fb7b84d720"
   }
  }
 },
 "nbformat": 4,
 "nbformat_minor": 2
}
